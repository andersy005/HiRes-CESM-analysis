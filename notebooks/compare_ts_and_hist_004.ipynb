{
 "cells": [
  {
   "cell_type": "code",
   "execution_count": 1,
   "metadata": {},
   "outputs": [],
   "source": [
    "import utils"
   ]
  },
  {
   "cell_type": "code",
   "execution_count": 2,
   "metadata": {},
   "outputs": [
    {
     "name": "stdout",
     "output_type": "stream",
     "text": [
      "Checking year 0001...\n",
      "... checking stream pop.h.nyear1 ...\n",
      "... checking stream pop.h.nday1 ...\n",
      "... checking stream pop.h ...\n",
      "... checking stream cice.h ...\n",
      "All variables available in time series for year 0001\n",
      "----\n",
      "Checking year 0002...\n",
      "... checking stream pop.h.nyear1 ...\n",
      "... checking stream pop.h.nday1 ...\n",
      "... checking stream pop.h ...\n",
      "... checking stream cice.h1 ...\n",
      "... checking stream cice.h ...\n",
      "All variables available in time series for year 0002\n",
      "----\n",
      "Checking year 0003...\n",
      "... checking stream pop.h.nyear1 ...\n",
      "... checking stream pop.h.nday1 ...\n",
      "... checking stream pop.h ...\n",
      "... checking stream cice.h1 ...\n",
      "... checking stream cice.h ...\n",
      "All variables available in time series for year 0003\n",
      "----\n",
      "Checking year 0004...\n",
      "... checking stream pop.h.nyear1 ...\n",
      "... checking stream pop.h.nday1 ...\n",
      "... checking stream pop.h ...\n",
      "... checking stream cice.h1 ...\n",
      "... checking stream cice.h ...\n",
      "All variables available in time series for year 0004\n",
      "----\n",
      "Checking year 0005...\n",
      "... checking stream pop.h.nyear1 ...\n",
      "... checking stream pop.h.nday1 ...\n",
      "... checking stream pop.h ...\n",
      "... checking stream cice.h1 ...\n",
      "... checking stream cice.h ...\n",
      "All variables available in time series for year 0005\n",
      "----\n",
      "Checking year 0006...\n",
      "... checking stream pop.h.nyear1 ...\n",
      "... checking stream pop.h.nday1 ...\n",
      "... checking stream pop.h ...\n",
      "... checking stream cice.h1 ...\n",
      "... checking stream cice.h ...\n",
      "All variables available in time series for year 0006\n",
      "----\n",
      "Checking year 0007...\n",
      "... checking stream pop.h.nyear1 ...\n",
      "... checking stream pop.h.nday1 ...\n",
      "... checking stream pop.h ...\n",
      "... checking stream cice.h1 ...\n",
      "... checking stream cice.h ...\n",
      "All variables available in time series for year 0007\n",
      "----\n",
      "Checking year 0008...\n",
      "... checking stream pop.h.nyear1 ...\n",
      "... checking stream pop.h.nday1 ...\n",
      "... checking stream pop.h ...\n",
      "... checking stream cice.h1 ...\n",
      "... checking stream cice.h ...\n",
      "All variables available in time series for year 0008\n",
      "----\n",
      "Checking year 0009...\n",
      "... checking stream pop.h.nyear1 ...\n",
      "... checking stream pop.h.nday1 ...\n",
      "... checking stream pop.h ...\n",
      "... checking stream cice.h1 ...\n",
      "... checking stream cice.h ...\n",
      "All variables available in time series for year 0009\n",
      "----\n",
      "Checking year 0010...\n",
      "... checking stream pop.h.nyear1 ...\n",
      "... checking stream pop.h.nday1 ...\n",
      "... checking stream pop.h ...\n",
      "... checking stream cice.h1 ...\n",
      "... checking stream cice.h ...\n",
      "All variables available in time series for year 0010\n",
      "----\n",
      "Checking year 0011...\n",
      "... checking stream pop.h.nyear1 ...\n",
      "Could not find time series for year 0011\n",
      "CPU times: user 2min 25s, sys: 11.6 s, total: 2min 36s\n",
      "Wall time: 6min 6s\n"
     ]
    }
   ],
   "source": [
    "%%time\n",
    "\n",
    "casename = \"g.e22.G1850ECO_JRA_HR.TL319_t13.004\"\n",
    "utils.timeseries_and_history_comparison(casename)"
   ]
  }
 ],
 "metadata": {
  "kernelspec": {
   "display_name": "Python [conda env:hires-marbl]",
   "language": "python",
   "name": "conda-env-hires-marbl-py"
  },
  "language_info": {
   "codemirror_mode": {
    "name": "ipython",
    "version": 3
   },
   "file_extension": ".py",
   "mimetype": "text/x-python",
   "name": "python",
   "nbconvert_exporter": "python",
   "pygments_lexer": "ipython3",
   "version": "3.7.8"
  }
 },
 "nbformat": 4,
 "nbformat_minor": 4
}
