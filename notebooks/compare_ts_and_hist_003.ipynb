{
 "cells": [
  {
   "cell_type": "code",
   "execution_count": 1,
   "metadata": {},
   "outputs": [],
   "source": [
    "import os\n",
    "\n",
    "import utils"
   ]
  },
  {
   "cell_type": "code",
   "execution_count": 2,
   "metadata": {},
   "outputs": [
    {
     "name": "stdout",
     "output_type": "stream",
     "text": [
      "Checking year 0001...\n",
      "... checking stream pop.h.nyear1 ...\n",
      "Skipping stream pop.h.nyear1 for year 0001 because there are no history files\n",
      "... checking stream pop.h.nday1 ...\n",
      "Skipping stream pop.h.nday1 for year 0001 because there are no history files\n",
      "... checking stream pop.h ...\n",
      "Skipping stream pop.h for year 0001 because there are no history files\n",
      "... checking stream cice.h ...\n",
      "Skipping stream cice.h for year 0001 because there are no history files\n",
      "Could not find time series for all variables in year 0001\n",
      "----\n",
      "Checking year 0002...\n",
      "... checking stream pop.h.nyear1 ...\n",
      "Skipping stream pop.h.nyear1 for year 0002 because there are no history files\n",
      "... checking stream pop.h.nday1 ...\n",
      "Skipping stream pop.h.nday1 for year 0002 because there are no history files\n",
      "... checking stream pop.h ...\n",
      "Skipping stream pop.h for year 0002 because there are no history files\n",
      "... checking stream cice.h1 ...\n",
      "Skipping stream cice.h1 for year 0002 because there are no history files\n",
      "... checking stream cice.h ...\n",
      "Skipping stream cice.h for year 0002 because there are no history files\n",
      "Could not find time series for all variables in year 0002\n",
      "----\n",
      "Checking year 0003...\n",
      "... checking stream pop.h.nyear1 ...\n",
      "Skipping stream pop.h.nyear1 for year 0003 because there are no history files\n",
      "... checking stream pop.h.nday1 ...\n",
      "Skipping stream pop.h.nday1 for year 0003 because there are no history files\n",
      "... checking stream pop.h ...\n",
      "Skipping stream pop.h for year 0003 because there are no history files\n",
      "... checking stream cice.h1 ...\n",
      "Skipping stream cice.h1 for year 0003 because there are no history files\n",
      "... checking stream cice.h ...\n",
      "Skipping stream cice.h for year 0003 because there are no history files\n",
      "Could not find time series for all variables in year 0003\n",
      "----\n",
      "Checking year 0004...\n",
      "... checking stream pop.h.nyear1 ...\n",
      "Skipping stream pop.h.nyear1 for year 0004 because there are no history files\n",
      "... checking stream pop.h.nday1 ...\n",
      "Skipping stream pop.h.nday1 for year 0004 because there are no history files\n",
      "... checking stream pop.h ...\n",
      "Skipping stream pop.h for year 0004 because there are no history files\n",
      "... checking stream cice.h1 ...\n",
      "Skipping stream cice.h1 for year 0004 because there are no history files\n",
      "... checking stream cice.h ...\n",
      "Skipping stream cice.h for year 0004 because there are no history files\n",
      "Could not find time series for all variables in year 0004\n",
      "----\n",
      "Checking year 0005...\n",
      "... checking stream pop.h.nyear1 ...\n",
      "Could not find time series for year 0005\n",
      "CPU times: user 207 ms, sys: 86.5 ms, total: 294 ms\n",
      "Wall time: 1.39 s\n"
     ]
    }
   ],
   "source": [
    "%%time\n",
    "\n",
    "casename = \"g.e22.G1850ECO_JRA_HR.TL319_t13.003\"\n",
    "\n",
    "# Directories to search for netCDF files\n",
    "caseroot = os.path.join(os.sep, \"glade\", \"work\", \"mlevy\", \"hi-res_BGC_JRA\", \"cases\")\n",
    "campaign_root = os.path.join(os.sep, \"glade\", \"campaign\", \"cesm\", \"development\", \"bgcwg\", \"projects\", \"hi-res_JRA\", \"cases\")\n",
    "output_roots = [os.path.join(campaign_root, casename, \"output\")]\n",
    "output_roots += utils.gen_output_roots_from_caseroot(os.path.join(caseroot, casename))\n",
    "\n",
    "utils.timeseries_and_history_comparison(casename, output_roots)"
   ]
  }
 ],
 "metadata": {
  "kernelspec": {
   "display_name": "Python [conda env:hires-marbl]",
   "language": "python",
   "name": "conda-env-hires-marbl-py"
  },
  "language_info": {
   "codemirror_mode": {
    "name": "ipython",
    "version": 3
   },
   "file_extension": ".py",
   "mimetype": "text/x-python",
   "name": "python",
   "nbconvert_exporter": "python",
   "pygments_lexer": "ipython3",
   "version": "3.7.8"
  }
 },
 "nbformat": 4,
 "nbformat_minor": 4
}
