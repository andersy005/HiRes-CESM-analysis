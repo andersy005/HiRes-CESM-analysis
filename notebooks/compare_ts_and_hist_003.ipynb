{
 "cells": [
  {
   "cell_type": "code",
   "execution_count": 1,
   "metadata": {},
   "outputs": [],
   "source": [
    "import os\n",
    "\n",
    "import utils"
   ]
  },
  {
   "cell_type": "code",
   "execution_count": 2,
   "metadata": {},
   "outputs": [
    {
     "name": "stdout",
     "output_type": "stream",
     "text": [
      "Checking year 0001...\n",
      "... checking stream pop.h.nyear1 ...\n",
      "... checking stream pop.h.nday1 ...\n",
      "... checking stream pop.h ...\n",
      "... checking stream cice.h ...\n",
      "All variables available in time series for year 0001\n",
      "----\n",
      "Checking year 0002...\n",
      "... checking stream pop.h.nyear1 ...\n",
      "... checking stream pop.h.nday1 ...\n",
      "... checking stream pop.h ...\n",
      "... checking stream cice.h1 ...\n",
      "... checking stream cice.h ...\n",
      "All variables available in time series for year 0002\n",
      "----\n",
      "Checking year 0003...\n",
      "... checking stream pop.h.nyear1 ...\n",
      "... checking stream pop.h.nday1 ...\n",
      "... checking stream pop.h ...\n",
      "... checking stream cice.h1 ...\n",
      "... checking stream cice.h ...\n",
      "All variables available in time series for year 0003\n",
      "----\n",
      "Checking year 0004...\n",
      "... checking stream pop.h.nyear1 ...\n",
      "... checking stream pop.h.nday1 ...\n",
      "... checking stream pop.h ...\n",
      "... checking stream cice.h1 ...\n",
      "... checking stream cice.h ...\n",
      "All variables available in time series for year 0004\n",
      "----\n",
      "Checking year 0005...\n",
      "... checking stream pop.h.nyear1 ...\n",
      "Could not find time series for year 0005\n",
      "CPU times: user 59.8 s, sys: 42.8 s, total: 1min 42s\n",
      "Wall time: 2min 7s\n"
     ]
    }
   ],
   "source": [
    "%%time\n",
    "\n",
    "casename = \"g.e22.G1850ECO_JRA_HR.TL319_t13.003\"\n",
    "\n",
    "# Directories to search for netCDF files\n",
    "caseroot = os.path.join(os.sep, \"glade\", \"work\", \"mlevy\", \"hi-res_BGC_JRA\", \"cases\")\n",
    "campaign_root = os.path.join(os.sep, \"glade\", \"campaign\", \"cesm\", \"development\", \"bgcwg\", \"projects\", \"hi-res_JRA\", \"cases\")\n",
    "output_roots = [os.path.join(campaign_root, casename, \"output\")]\n",
    "output_roots += utils.gen_output_roots_from_caseroot(os.path.join(caseroot, casename))\n",
    "\n",
    "utils.timeseries_and_history_comparison(casename, output_roots)"
   ]
  }
 ],
 "metadata": {
  "kernelspec": {
   "display_name": "Python [conda env:hires-marbl]",
   "language": "python",
   "name": "conda-env-hires-marbl-py"
  },
  "language_info": {
   "codemirror_mode": {
    "name": "ipython",
    "version": 3
   },
   "file_extension": ".py",
   "mimetype": "text/x-python",
   "name": "python",
   "nbconvert_exporter": "python",
   "pygments_lexer": "ipython3",
   "version": "3.7.8"
  }
 },
 "nbformat": 4,
 "nbformat_minor": 4
}
