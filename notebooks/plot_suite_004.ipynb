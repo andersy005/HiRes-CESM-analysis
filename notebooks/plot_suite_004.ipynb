{
 "cells": [
  {
   "cell_type": "code",
   "execution_count": 1,
   "metadata": {},
   "outputs": [],
   "source": [
    "import os\n",
    "import warnings\n",
    "\n",
    "import dask\n",
    "import ncar_jobqueue\n",
    "import yaml\n",
    "\n",
    "import utils\n",
    "\n",
    "%matplotlib inline"
   ]
  },
  {
   "cell_type": "code",
   "execution_count": 2,
   "metadata": {},
   "outputs": [],
   "source": [
    "with open(\"diag_metadata.yaml\", mode=\"r\") as fptr:\n",
    "    diag_metadata_list = yaml.safe_load(fptr)\n",
    "\n",
    "# varnames = utils.get_varnames_from_metadata_list(diag_metadata_list)"
   ]
  },
  {
   "cell_type": "code",
   "execution_count": 3,
   "metadata": {},
   "outputs": [],
   "source": [
    "def summary_plots(ds, diag_metadata, save_pngs=False):\n",
    "    varname = diag_metadata[\"varname\"]\n",
    "    print(varname)\n",
    "    da = ds[varname].isel(diag_metadata.get(\"isel_dict\"))\n",
    "\n",
    "    utils.summary_plot_global_ts(\n",
    "        ds,\n",
    "        da,\n",
    "        diag_metadata,\n",
    "        time_coarsen_len=12,\n",
    "        save_pngs=save_pngs,\n",
    "        casename=ds.attrs[\"title\"],\n",
    "        savefig_kwargs={\"dpi\": 72},  # match default behavior of savefig\n",
    "    )\n",
    "\n",
    "    utils.summary_plot_histogram(\n",
    "        ds,\n",
    "        da,\n",
    "        diag_metadata,\n",
    "        save_pngs=save_pngs,\n",
    "        casename=ds.attrs[\"title\"],\n",
    "        savefig_kwargs={\"dpi\": 72},  # match default behavior of savefig\n",
    "    )"
   ]
  },
  {
   "cell_type": "raw",
   "metadata": {},
   "source": [
    "cluster = ncar_jobqueue.NCARCluster(\n",
    "    cores=2, memory=\"64 GB\", processes=2, walltime=\"6:00:00\"\n",
    ")\n",
    "cluster.scale(n=8)  # n = number of workers\n",
    "print(f\"dashboard_link={cluster.dashboard_link}\")"
   ]
  },
  {
   "cell_type": "code",
   "execution_count": 4,
   "metadata": {},
   "outputs": [
    {
     "name": "stdout",
     "output_type": "stream",
     "text": [
      "dashboard_link=https://jupyterhub.ucar.edu/dav/user/mlevy/proxy/8787/status\n"
     ]
    }
   ],
   "source": [
    "from dask_jobqueue import PBSCluster\n",
    "from dask.distributed import Client\n",
    "\n",
    "ncores = 2\n",
    "nmem = \"64GB\"\n",
    "\n",
    "cluster = PBSCluster(\n",
    "    cores=ncores,  # The number of cores you want\n",
    "    memory=nmem,  # Amount of memory\n",
    "    processes=ncores,  # How many processes\n",
    "    queue=\"casper\",  # The type of queue to utilize (/glade/u/apps/dav/opt/usr/bin/execcasper)\n",
    "    resource_spec=\"select=1:ncpus=\"\n",
    "    + str(ncores)\n",
    "    + \":mem=\"\n",
    "    + nmem,  # Specify resources\n",
    "    project=\"NCGD0011\",  # Input your project ID here\n",
    "    walltime=\"6:00:00\",  # Amount of wall time\n",
    "    interface=\"ib0\",  # Interface to use\n",
    ")\n",
    "\n",
    "cluster.scale(8)\n",
    "print(f\"dashboard_link={cluster.dashboard_link}\")"
   ]
  },
  {
   "cell_type": "code",
   "execution_count": 5,
   "metadata": {},
   "outputs": [],
   "source": [
    "casename = \"g.e22.G1850ECO_JRA_HR.TL319_t13.004\"\n",
    "campaign_root = os.path.join(\n",
    "    os.sep,\n",
    "    \"glade\",\n",
    "    \"campaign\",\n",
    "    \"cesm\",\n",
    "    \"development\",\n",
    "    \"bgcwg\",\n",
    "    \"projects\",\n",
    "    \"hi-res_JRA\",\n",
    "    \"cases\",\n",
    ")\n",
    "\n",
    "# Set up CaseClass object\n",
    "case = utils.CaseClass(\n",
    "    casename, os.path.join(campaign_root, casename, \"output\")\n",
    ")"
   ]
  },
  {
   "cell_type": "code",
   "execution_count": 6,
   "metadata": {},
   "outputs": [
    {
     "name": "stdout",
     "output_type": "stream",
     "text": [
      "Datasets contain a total of 204 time samples\n",
      "Last average written at 0018-01-01 00:00:00\n",
      "POC_FLUX_100m\n",
      "Datasets contain a total of 204 time samples\n",
      "Last average written at 0018-01-01 00:00:00\n",
      "CaCO3_FLUX_100m\n",
      "Datasets contain a total of 204 time samples\n",
      "Last average written at 0018-01-01 00:00:00\n",
      "FG_CO2\n",
      "Datasets contain a total of 204 time samples\n",
      "Last average written at 0018-01-01 00:00:00\n",
      "DpCO2\n",
      "Datasets contain a total of 204 time samples\n",
      "Last average written at 0018-01-01 00:00:00\n",
      "PH\n",
      "Datasets contain a total of 204 time samples\n",
      "Last average written at 0018-01-01 00:00:00\n",
      "spChl\n",
      "Datasets contain a total of 204 time samples\n",
      "Last average written at 0018-01-01 00:00:00\n",
      "photoC_sp_zint\n",
      "Datasets contain a total of 204 time samples\n",
      "Last average written at 0018-01-01 00:00:00\n",
      "coccoChl\n",
      "Datasets contain a total of 204 time samples\n",
      "Last average written at 0018-01-01 00:00:00\n",
      "photoC_cocco_zint\n",
      "Datasets contain a total of 204 time samples\n",
      "Last average written at 0018-01-01 00:00:00\n",
      "diatChl\n",
      "Datasets contain a total of 204 time samples\n",
      "Last average written at 0018-01-01 00:00:00\n",
      "photoC_diat_zint\n",
      "Datasets contain a total of 204 time samples\n",
      "Last average written at 0018-01-01 00:00:00\n",
      "diazChl\n",
      "Datasets contain a total of 204 time samples\n",
      "Last average written at 0018-01-01 00:00:00\n",
      "photoC_diaz_zint\n",
      "Datasets contain a total of 204 time samples\n",
      "Last average written at 0018-01-01 00:00:00\n",
      "NHx_SURFACE_EMIS\n",
      "Datasets contain a total of 204 time samples\n",
      "Last average written at 0018-01-01 00:00:00\n",
      "NH4\n",
      "Datasets contain a total of 204 time samples\n",
      "Last average written at 0018-01-01 00:00:00\n",
      "O2_ZMIN\n",
      "Datasets contain a total of 204 time samples\n",
      "Last average written at 0018-01-01 00:00:00\n",
      "O2_ZMIN_DEPTH\n",
      "Datasets contain a total of 204 time samples\n",
      "Last average written at 0018-01-01 00:00:00\n",
      "O2\n",
      "Datasets contain a total of 204 time samples\n",
      "Last average written at 0018-01-01 00:00:00\n",
      "PO4\n",
      "Datasets contain a total of 204 time samples\n",
      "Last average written at 0018-01-01 00:00:00\n",
      "PO4\n",
      "Datasets contain a total of 204 time samples\n",
      "Last average written at 0018-01-01 00:00:00\n",
      "NO3\n",
      "Datasets contain a total of 204 time samples\n",
      "Last average written at 0018-01-01 00:00:00\n",
      "NO3\n",
      "Datasets contain a total of 204 time samples\n",
      "Last average written at 0018-01-01 00:00:00\n",
      "SiO3\n",
      "Datasets contain a total of 204 time samples\n",
      "Last average written at 0018-01-01 00:00:00\n",
      "SiO3\n"
     ]
    }
   ],
   "source": [
    "with dask.distributed.Client(cluster) as client:\n",
    "    stream = \"pop.h\"\n",
    "    #     ds = case.gen_dataset(varnames, stream)\n",
    "    for diag_metadata in diag_metadata_list:\n",
    "        ds = case.gen_dataset(diag_metadata[\"varname\"], stream, end_year=17)\n",
    "        summary_plots(ds, diag_metadata, save_pngs=True)"
   ]
  },
  {
   "cell_type": "code",
   "execution_count": 7,
   "metadata": {},
   "outputs": [],
   "source": [
    "cluster.close()"
   ]
  }
 ],
 "metadata": {
  "kernelspec": {
   "display_name": "Python [conda env:hires-marbl]",
   "language": "python",
   "name": "conda-env-hires-marbl-py"
  },
  "language_info": {
   "codemirror_mode": {
    "name": "ipython",
    "version": 3
   },
   "file_extension": ".py",
   "mimetype": "text/x-python",
   "name": "python",
   "nbconvert_exporter": "python",
   "pygments_lexer": "ipython3",
   "version": "3.7.8"
  }
 },
 "nbformat": 4,
 "nbformat_minor": 4
}
