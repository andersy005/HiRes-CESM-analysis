{
 "cells": [
  {
   "cell_type": "code",
   "execution_count": 1,
   "metadata": {},
   "outputs": [],
   "source": [
    "%matplotlib inline\n",
    "\n",
    "import os\n",
    "\n",
    "import matplotlib.pyplot as plt\n",
    "import utils"
   ]
  },
  {
   "cell_type": "code",
   "execution_count": 2,
   "metadata": {},
   "outputs": [],
   "source": [
    "# Set up dictionaries for CaseClass objects and Datasets\n",
    "# Also set variable of interest (HMXL_2) and save\n",
    "# a few directories that will be used in multiple init calls\n",
    "cases = dict()\n",
    "caseroot = os.path.join(\n",
    "    os.sep, \"glade\", \"work\", \"mlevy\", \"hi-res_BGC_JRA\", \"cases\"\n",
    ")\n",
    "campaign_root = os.path.join(\n",
    "    os.sep,\n",
    "    \"glade\",\n",
    "    \"campaign\",\n",
    "    \"cesm\",\n",
    "    \"development\",\n",
    "    \"bgcwg\",\n",
    "    \"projects\",\n",
    "    \"hi-res_JRA\",\n",
    "    \"cases\",\n",
    ")\n",
    "\n",
    "# Case 001: output is split between two cases\n",
    "output_roots = utils.gen_output_roots_from_caseroot(\n",
    "    [\n",
    "        os.path.join(caseroot, \"g.e22.G1850ECO_JRA_HR.TL319_g17.001\"),\n",
    "        os.path.join(caseroot, \"g.e22.G1850ECO_JRA_HR.TL319_t13.001\"),\n",
    "    ]\n",
    ")\n",
    "casenames = [\n",
    "    \"g.e22.G1850ECO_JRA_HR.TL319_t13.001\",\n",
    "    \"g.e22.G1850ECO_JRA_HR.TL319_g17.001\",\n",
    "]\n",
    "cases[\"001\"] = utils.CaseClass(\n",
    "    casenames,\n",
    "    utils.gen_output_roots_from_caseroot(\n",
    "        [os.path.join(caseroot, casename) for casename in casenames]\n",
    "    ),\n",
    ")\n",
    "\n",
    "# Case 002:\n",
    "casename = \"g.e22.G1850ECO_JRA_HR.TL319_t13.002\"\n",
    "cases[\"002\"] = utils.CaseClass(\n",
    "    casename,\n",
    "    utils.gen_output_roots_from_caseroot(os.path.join(caseroot, casename)),\n",
    ")\n",
    "\n",
    "# Case 003: get time series files from campaign\n",
    "casename = \"g.e22.G1850ECO_JRA_HR.TL319_t13.003\"\n",
    "cases[\"003\"] = utils.CaseClass(\n",
    "    casename,\n",
    "    os.path.join(campaign_root, casename, \"output\"),\n",
    ")\n",
    "\n",
    "# Case 004: get time series files from campaign\n",
    "casename = \"g.e22.G1850ECO_JRA_HR.TL319_t13.004\"\n",
    "cases[\"004\"] = utils.CaseClass(\n",
    "    casename,\n",
    "    os.path.join(campaign_root, casename, \"output\"),\n",
    ")"
   ]
  },
  {
   "cell_type": "code",
   "execution_count": 3,
   "metadata": {},
   "outputs": [
    {
     "data": {
      "text/plain": [
       "{'0001-01-01': [16, 4, 2, 0],\n",
       " '0001-01-02': [0, 0, 0, 0],\n",
       " '0001-01-03': [0, 0, 0, 0],\n",
       " '0001-01-04': [0, 0, 0, 0],\n",
       " '0001-01-05': [0, 0, 0, 0],\n",
       " '0001-01-06': [0, 0, 0, 0],\n",
       " '0001-01-07': [0, 0, 0, 0],\n",
       " '0001-01-08': [0, 0, 0, 0],\n",
       " '0001-01-09': [0, 0, 0, 0],\n",
       " '0001-01-10': [0, 0, 0, 0],\n",
       " '0001-01-11': [0, 0, 0, 0],\n",
       " '0001-01-12': [0, 0, 0, 0],\n",
       " '0001-01-13': [0, 0, 0, 0],\n",
       " '0001-01-14': [0, 0, 0, 0],\n",
       " '0001-01-15': [0, 0, 0, 0],\n",
       " '0001-01-16': [0, 0, 0, 0],\n",
       " '0001-01-17': [0, 0, 0, 0],\n",
       " '0001-01-18': [0, 0, 0, 0],\n",
       " '0001-01-19': [0, 0, 0, 0],\n",
       " '0001-01-20': [0, 0, 0, 0],\n",
       " '0001-01-21': [0, 0, 0, 0],\n",
       " '0001-01-22': [0, 0, 0, 0],\n",
       " '0001-01-23': [0, 0, 0, 0],\n",
       " '0001-01-24': [0, 0, 0, 0],\n",
       " '0001-01-25': [0, 0, 0, 0],\n",
       " '0001-01-26': [0, 0, 0, 0],\n",
       " '0001-01-27': [0, 0, 0, 0],\n",
       " '0001-01-28': [0, 0, 0, 0],\n",
       " '0001-01-29': [0, 0, 0, 0],\n",
       " '0001-01-30': [0, 0, 0, 0],\n",
       " '0001-01-31': [0, 0, 0, 0],\n",
       " '0001-02-01': [0, 0, 0, 0],\n",
       " '0001-02-02': [0, 0, 0, 0],\n",
       " '0001-02-03': [0, 0, 0, 0],\n",
       " '0001-02-04': [0, 0, 0, 0],\n",
       " '0001-02-05': [0, 0, 0, 0],\n",
       " '0001-02-06': [0, 0, 0, 0],\n",
       " '0001-02-07': [0, 0, 0, 0],\n",
       " '0001-02-08': [4, 0, 0, 0],\n",
       " '0001-02-09': [8, 0, 0, 0],\n",
       " '0001-02-10': [2, 0, 0, 0],\n",
       " '0001-02-11': [0, 0, 0, 0],\n",
       " '0001-02-12': [0, 0, 0, 0],\n",
       " '0001-02-13': [0, 0, 0, 0],\n",
       " '0001-02-14': [0, 0, 0, 0],\n",
       " '0001-02-15': [0, 0, 0, 0],\n",
       " '0001-02-16': [0, 0, 0, 0],\n",
       " '0001-02-17': [0, 0, 0, 0],\n",
       " '0001-02-18': [0, 0, 0, 0],\n",
       " '0001-02-19': [0, 0, 0, 0],\n",
       " '0001-02-20': [0, 0, 0, 0],\n",
       " '0001-02-21': [0, 0, 0, 0],\n",
       " '0001-02-22': [0, 0, 0, 0],\n",
       " '0001-02-23': [0, 0, 0, 0],\n",
       " '0001-02-24': [0, 0, 0, 0],\n",
       " '0001-02-25': [0, 0, 0, 0],\n",
       " '0001-02-26': [0, 0, 0, 0],\n",
       " '0001-02-27': [0, 0, 0, 0],\n",
       " '0001-02-28': [0, 0, 0, 0],\n",
       " '0001-03-01': [0, 0, 0, 0],\n",
       " '0001-03-02': [0, 0, 0, 0],\n",
       " '0001-03-03': [0, 0, 0, 0],\n",
       " '0001-03-04': [0, 0, 0, 0],\n",
       " '0001-03-05': [0, 0, 0, 0],\n",
       " '0001-03-06': [0, 0, 0, 0],\n",
       " '0001-03-07': [0, 0, 0, 0],\n",
       " '0001-03-08': [0, 0, 0, 0],\n",
       " '0001-03-09': [0, 0, 0, 0],\n",
       " '0001-03-10': [0, 0, 0, 0],\n",
       " '0001-03-11': [0, 0, 0, 0],\n",
       " '0001-03-12': [0, 0, 0, 0],\n",
       " '0001-03-13': [0, 0, 0, 0],\n",
       " '0001-03-14': [0, 0, 0, 0],\n",
       " '0001-03-15': [0, 0, 0, 0],\n",
       " '0001-03-16': [0, 0, 0, 0],\n",
       " '0001-03-17': [0, 0, 0, 0],\n",
       " '0001-03-18': [0, 0, 0, 0],\n",
       " '0001-03-19': [0, 0, 0, 0],\n",
       " '0001-03-20': [0, 0, 0, 0],\n",
       " '0001-03-21': [0, 0, 0, 0],\n",
       " '0001-03-22': [0, 0, 0, 0],\n",
       " '0001-03-23': [0, 0, 0, 0],\n",
       " '0001-03-24': [0, 0, 0, 0],\n",
       " '0001-03-25': [0, 0, 0, 0],\n",
       " '0001-03-26': [0, 0, 0, 0],\n",
       " '0001-03-27': [0, 0, 0, 0],\n",
       " '0001-03-28': [0, 0, 0, 0],\n",
       " '0001-03-29': [0, 0, 0, 0],\n",
       " '0001-03-30': [0, 0, 0, 0],\n",
       " '0001-03-31': [0, 0, 0, 0],\n",
       " '0001-04-01': [0, 0, 0, 0],\n",
       " '0001-04-02': [108, 8, 0, 0],\n",
       " '0001-04-03': [0, 0, 0, 0],\n",
       " '0001-04-04': [0, 0, 0, 0],\n",
       " '0001-04-05': [0, 0, 0, 0],\n",
       " '0001-04-06': [0, 0, 0, 0],\n",
       " '0001-04-07': [0, 0, 0, 0],\n",
       " '0001-04-08': [0, 0, 0, 0],\n",
       " '0001-04-09': [0, 0, 0, 0],\n",
       " '0001-04-10': [0, 0, 0, 0],\n",
       " '0001-04-11': [0, 0, 0, 0],\n",
       " '0001-04-12': [0, 0, 0, 0],\n",
       " '0001-04-13': [0, 0, 0, 0],\n",
       " '0001-04-14': [0, 0, 0, 0],\n",
       " '0001-04-15': [0, 0, 0, 0],\n",
       " '0001-04-16': [0, 0, 0, 0],\n",
       " '0001-04-17': [0, 0, 0, 0],\n",
       " '0001-04-18': [0, 0, 0, 0],\n",
       " '0001-04-19': [0, 0, 0, 0],\n",
       " '0001-04-20': [0, 0, 0, 0],\n",
       " '0001-04-21': [0, 0, 0, 0],\n",
       " '0001-04-22': [0, 0, 0, 0],\n",
       " '0001-04-23': [0, 0, 0, 0],\n",
       " '0001-04-24': [0, 0, 0, 0],\n",
       " '0001-04-25': [0, 0, 0, 0],\n",
       " '0001-04-26': [0, 0, 0, 0],\n",
       " '0001-04-27': [0, 0, 0, 0],\n",
       " '0001-04-28': [0, 0, 0, 0],\n",
       " '0001-04-29': [0, 0, 0, 0],\n",
       " '0001-04-30': [0, 0, 0, 0],\n",
       " '0001-05-01': [0, 0, 0, 0],\n",
       " '0001-05-02': [0, 0, 0, 0],\n",
       " '0001-05-03': [0, 0, 0, 0],\n",
       " '0001-05-04': [0, 0, 0, 0],\n",
       " '0001-05-05': [366, 237, 103, 1],\n",
       " 'cesm.log.3186182.chadmin1.ib0.cheyenne.ucar.edu.200726-142958': [0, 0, 0, 0]}"
      ]
     },
     "execution_count": 3,
     "metadata": {},
     "output_type": "execute_result"
    }
   ],
   "source": [
    "# get_co2calc_warning_cnt now counts each it value separately\n",
    "# So [292, 204, 82, 1] => 292 warnings at it=1, 204 at it=2, 82 at it=3, and 1 at it=4\n",
    "cases[\"002\"].get_co2calc_warning_cnt()"
   ]
  },
  {
   "cell_type": "code",
   "execution_count": 4,
   "metadata": {},
   "outputs": [
    {
     "data": {
      "image/png": "[encoded data removed]",
      "text/plain": [
       "<Figure size 648x378 with 1 Axes>"
      ]
     },
     "metadata": {
      "needs_background": "light"
     },
     "output_type": "display_data"
    }
   ],
   "source": [
    "utils.plot_dict_with_date_keys(\n",
    "    cases[\"001\"].get_co2calc_warning_cnt(),\n",
    "    title=\"co2calc warnings\",\n",
    "    legend=[f\"it = {it}\" for it in range(1, 5)],\n",
    ")"
   ]
  },
  {
   "cell_type": "code",
   "execution_count": 5,
   "metadata": {},
   "outputs": [
    {
     "data": {
      "image/png": "[encoded data removed]",
      "text/plain": [
       "<Figure size 648x378 with 1 Axes>"
      ]
     },
     "metadata": {
      "needs_background": "light"
     },
     "output_type": "display_data"
    }
   ],
   "source": [
    "utils.plot_dict_with_date_keys(\n",
    "    cases[\"002\"].get_co2calc_warning_cnt(),\n",
    "    title=\"co2calc warnings\",\n",
    "    legend=[f\"it = {it}\" for it in range(1, 5)],\n",
    ")"
   ]
  },
  {
   "cell_type": "code",
   "execution_count": 6,
   "metadata": {},
   "outputs": [
    {
     "data": {
      "image/png": "[encoded data removed]",
      "text/plain": [
       "<Figure size 648x378 with 1 Axes>"
      ]
     },
     "metadata": {
      "needs_background": "light"
     },
     "output_type": "display_data"
    }
   ],
   "source": [
    "utils.plot_dict_with_date_keys(\n",
    "    cases[\"003\"].get_co2calc_warning_cnt(),\n",
    "    title=\"co2calc warnings\",\n",
    "    legend=[f\"it = {it}\" for it in range(1, 5)],\n",
    ")"
   ]
  },
  {
   "cell_type": "code",
   "execution_count": 7,
   "metadata": {},
   "outputs": [
    {
     "data": {
      "image/png": "[encoded data removed]",
      "text/plain": [
       "<Figure size 648x378 with 1 Axes>"
      ]
     },
     "metadata": {
      "needs_background": "light"
     },
     "output_type": "display_data"
    }
   ],
   "source": [
    "utils.plot_dict_with_date_keys(\n",
    "    cases[\"004\"].get_co2calc_warning_cnt(),\n",
    "    title=\"co2calc warnings\",\n",
    "    legend=[f\"it = {it}\" for it in range(1, 5)],\n",
    ")"
   ]
  }
 ],
 "metadata": {
  "kernelspec": {
   "display_name": "Python [conda env:hires-marbl]",
   "language": "python",
   "name": "conda-env-hires-marbl-py"
  },
  "language_info": {
   "codemirror_mode": {
    "name": "ipython",
    "version": 3
   },
   "file_extension": ".py",
   "mimetype": "text/x-python",
   "name": "python",
   "nbconvert_exporter": "python",
   "pygments_lexer": "ipython3",
   "version": "3.7.8"
  }
 },
 "nbformat": 4,
 "nbformat_minor": 4
}
