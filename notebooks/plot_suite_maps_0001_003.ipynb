{
 "cells": [
  {
   "cell_type": "code",
   "execution_count": 1,
   "metadata": {
    "execution": {}
   },
   "outputs": [],
   "source": [
    "import os\n",
    "import yaml\n",
    "\n",
    "import utils\n",
    "\n",
    "%matplotlib inline"
   ]
  },
  {
   "cell_type": "code",
   "execution_count": 2,
   "metadata": {},
   "outputs": [],
   "source": [
    "casename = \"g.e22.G1850ECO_JRA_HR.TL319_t13.003\"\n",
    "year = 1\n",
    "campaign_root = os.path.join(\n",
    "    os.sep,\n",
    "    \"glade\",\n",
    "    \"campaign\",\n",
    "    \"cesm\",\n",
    "    \"development\",\n",
    "    \"bgcwg\",\n",
    "    \"projects\",\n",
    "    \"hi-res_JRA\",\n",
    "    \"cases\",\n",
    ")\n",
    "\n",
    "# Set up CaseClass object\n",
    "case = utils.CaseClass(\n",
    "    casename, os.path.join(campaign_root, casename, \"output\")\n",
    ")"
   ]
  },
  {
   "cell_type": "code",
   "execution_count": 3,
   "metadata": {
    "execution": {}
   },
   "outputs": [],
   "source": [
    "with open(\"diag_metadata.yaml\", mode=\"r\") as fptr:\n",
    "    diag_metadata_list = yaml.safe_load(fptr)\n",
    "\n",
    "# varnames = utils.get_varnames_from_metadata_list(diag_metadata_list)"
   ]
  },
  {
   "cell_type": "code",
   "execution_count": 4,
   "metadata": {
    "execution": {}
   },
   "outputs": [],
   "source": [
    "def summary_plots(ds, diag_metadata, save_pngs=False):\n",
    "    varname = diag_metadata[\"varname\"]\n",
    "    print(varname)\n",
    "    da = ds[varname].isel(diag_metadata.get(\"isel_dict\"))\n",
    "\n",
    "    utils.summary_plot_maps(\n",
    "        da,\n",
    "        diag_metadata,\n",
    "        save_pngs=save_pngs,\n",
    "        casename=ds.attrs[\"title\"],\n",
    "        savefig_kwargs={\"dpi\": 72},  # match default behavior of savefig\n",
    "    )"
   ]
  },
  {
   "cell_type": "code",
   "execution_count": 5,
   "metadata": {
    "execution": {}
   },
   "outputs": [
    {
     "name": "stdout",
     "output_type": "stream",
     "text": [
      "Datasets contain a total of 12 time samples\n",
      "Last average written at 0002-01-01 00:00:00\n",
      "POC_FLUX_100m\n",
      "Datasets contain a total of 12 time samples\n",
      "Last average written at 0002-01-01 00:00:00\n",
      "CaCO3_FLUX_100m\n",
      "Datasets contain a total of 12 time samples\n",
      "Last average written at 0002-01-01 00:00:00\n",
      "FG_CO2\n",
      "Datasets contain a total of 12 time samples\n",
      "Last average written at 0002-01-01 00:00:00\n",
      "DpCO2\n",
      "Datasets contain a total of 12 time samples\n",
      "Last average written at 0002-01-01 00:00:00\n",
      "PH\n",
      "Datasets contain a total of 12 time samples\n",
      "Last average written at 0002-01-01 00:00:00\n",
      "spChl\n",
      "Datasets contain a total of 12 time samples\n",
      "Last average written at 0002-01-01 00:00:00\n",
      "photoC_sp_zint\n",
      "Datasets contain a total of 12 time samples\n",
      "Last average written at 0002-01-01 00:00:00\n",
      "coccoChl\n",
      "Datasets contain a total of 12 time samples\n",
      "Last average written at 0002-01-01 00:00:00\n",
      "photoC_cocco_zint\n",
      "Datasets contain a total of 12 time samples\n",
      "Last average written at 0002-01-01 00:00:00\n",
      "diatChl\n",
      "Datasets contain a total of 12 time samples\n",
      "Last average written at 0002-01-01 00:00:00\n",
      "photoC_diat_zint\n",
      "Datasets contain a total of 12 time samples\n",
      "Last average written at 0002-01-01 00:00:00\n",
      "diazChl\n",
      "Datasets contain a total of 12 time samples\n",
      "Last average written at 0002-01-01 00:00:00\n",
      "photoC_diaz_zint\n",
      "Datasets contain a total of 12 time samples\n",
      "Last average written at 0002-01-01 00:00:00\n",
      "NHx_SURFACE_EMIS\n",
      "Datasets contain a total of 12 time samples\n",
      "Last average written at 0002-01-01 00:00:00\n",
      "NH4\n",
      "Datasets contain a total of 12 time samples\n",
      "Last average written at 0002-01-01 00:00:00\n",
      "O2_ZMIN\n",
      "Datasets contain a total of 12 time samples\n",
      "Last average written at 0002-01-01 00:00:00\n",
      "O2_ZMIN_DEPTH\n",
      "Datasets contain a total of 12 time samples\n",
      "Last average written at 0002-01-01 00:00:00\n",
      "O2\n",
      "Datasets contain a total of 12 time samples\n",
      "Last average written at 0002-01-01 00:00:00\n",
      "PO4\n",
      "Datasets contain a total of 12 time samples\n",
      "Last average written at 0002-01-01 00:00:00\n",
      "PO4\n",
      "Datasets contain a total of 12 time samples\n",
      "Last average written at 0002-01-01 00:00:00\n",
      "NO3\n",
      "Datasets contain a total of 12 time samples\n",
      "Last average written at 0002-01-01 00:00:00\n",
      "NO3\n",
      "Datasets contain a total of 12 time samples\n",
      "Last average written at 0002-01-01 00:00:00\n",
      "SiO3\n",
      "Datasets contain a total of 12 time samples\n",
      "Last average written at 0002-01-01 00:00:00\n",
      "SiO3\n"
     ]
    }
   ],
   "source": [
    "stream = \"pop.h\"\n",
    "# ds = case.gen_dataset(varnames, stream, start_year=year, end_year=year)\n",
    "for diag_metadata in diag_metadata_list:\n",
    "    ds = case.gen_dataset(\n",
    "        diag_metadata[\"varname\"], stream, start_year=year, end_year=year\n",
    "    )\n",
    "    summary_plots(ds, diag_metadata, save_pngs=True)"
   ]
  }
 ],
 "metadata": {
  "kernelspec": {
   "display_name": "Python [conda env:hires-marbl]",
   "language": "python",
   "name": "conda-env-hires-marbl-py"
  },
  "language_info": {
   "codemirror_mode": {
    "name": "ipython",
    "version": 3
   },
   "file_extension": ".py",
   "mimetype": "text/x-python",
   "name": "python",
   "nbconvert_exporter": "python",
   "pygments_lexer": "ipython3",
   "version": "3.7.8"
  }
 },
 "nbformat": 4,
 "nbformat_minor": 4
}
