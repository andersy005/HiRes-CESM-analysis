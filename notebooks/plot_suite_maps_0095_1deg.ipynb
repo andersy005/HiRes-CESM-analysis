{
 "cells": [
  {
   "cell_type": "code",
   "execution_count": 1,
   "metadata": {},
   "outputs": [],
   "source": [
    "import os\n",
    "import yaml\n",
    "\n",
    "import utils\n",
    "\n",
    "%matplotlib inline"
   ]
  },
  {
   "cell_type": "code",
   "execution_count": 2,
   "metadata": {},
   "outputs": [],
   "source": [
    "casename = \"g.e22b05.G1850ECOIAF_JRA.TL319_g17.cocco.001\"\n",
    "year = 95\n",
    "campaign_root = os.path.join(\n",
    "    os.path.sep,\n",
    "    \"glade\",\n",
    "    \"campaign\",\n",
    "    \"cesm\",\n",
    "    \"development\",\n",
    "    \"bgcwg\",\n",
    "    \"projects\",\n",
    "    \"1deg_cocco_JRA\",\n",
    "    \"cases\",\n",
    ")\n",
    "\n",
    "# Set up CaseClass object\n",
    "case = utils.CaseClass(casename, os.path.join(campaign_root, casename))"
   ]
  },
  {
   "cell_type": "code",
   "execution_count": 3,
   "metadata": {},
   "outputs": [],
   "source": [
    "with open(\"diag_metadata.yaml\", mode=\"r\") as fptr:\n",
    "    diag_metadata_list = yaml.safe_load(fptr)\n",
    "\n",
    "varnames = utils.get_varnames_from_metadata_list(diag_metadata_list)"
   ]
  },
  {
   "cell_type": "code",
   "execution_count": 4,
   "metadata": {},
   "outputs": [],
   "source": [
    "def summary_plots(ds, diag_metadata, save_pngs=False):\n",
    "    varname = diag_metadata[\"varname\"]\n",
    "    print(varname)\n",
    "    da = ds[varname].isel(diag_metadata.get(\"isel_dict\"))\n",
    "\n",
    "    utils.summary_plot_maps(\n",
    "        da, diag_metadata, save_pngs=save_pngs, casename=ds.attrs[\"title\"]\n",
    "    )"
   ]
  },
  {
   "cell_type": "code",
   "execution_count": 5,
   "metadata": {},
   "outputs": [
    {
     "name": "stdout",
     "output_type": "stream",
     "text": [
      "Datasets contain a total of 12 time samples\n",
      "Last average written at 0096-01-01 00:00:00\n",
      "POC_FLUX_100m\n",
      "CaCO3_FLUX_100m\n",
      "FG_CO2\n",
      "DpCO2\n",
      "PH\n",
      "spChl\n",
      "photoC_sp_zint\n",
      "coccoChl\n",
      "photoC_cocco_zint\n",
      "diatChl\n",
      "photoC_diat_zint\n",
      "diazChl\n",
      "photoC_diaz_zint\n",
      "NHx_SURFACE_EMIS\n",
      "NH4\n",
      "O2_ZMIN\n",
      "O2_ZMIN_DEPTH\n",
      "O2\n",
      "PO4\n",
      "PO4\n",
      "NO3\n",
      "NO3\n",
      "SiO3\n",
      "SiO3\n"
     ]
    }
   ],
   "source": [
    "stream = \"pop.h\"\n",
    "ds = case.gen_dataset(varnames, stream, start_year=year, end_year=year)\n",
    "for diag_metadata in diag_metadata_list:\n",
    "    #     ds = case.gen_dataset(\n",
    "    #         diag_metadata[\"varname\"], stream, start_year=year, end_year=year\n",
    "    #     )\n",
    "    summary_plots(ds, diag_metadata, save_pngs=True)"
   ]
  }
 ],
 "metadata": {
  "kernelspec": {
   "display_name": "Python [conda env:hires-marbl]",
   "language": "python",
   "name": "conda-env-hires-marbl-py"
  },
  "language_info": {
   "codemirror_mode": {
    "name": "ipython",
    "version": 3
   },
   "file_extension": ".py",
   "mimetype": "text/x-python",
   "name": "python",
   "nbconvert_exporter": "python",
   "pygments_lexer": "ipython3",
   "version": "3.7.8"
  }
 },
 "nbformat": 4,
 "nbformat_minor": 4
}
