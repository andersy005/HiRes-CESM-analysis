{
 "cells": [
  {
   "cell_type": "code",
   "execution_count": 1,
   "metadata": {},
   "outputs": [],
   "source": [
    "import os\n",
    "import warnings\n",
    "\n",
    "import dask\n",
    "import ncar_jobqueue\n",
    "import yaml\n",
    "\n",
    "import utils\n",
    "\n",
    "%matplotlib inline"
   ]
  },
  {
   "cell_type": "code",
   "execution_count": 2,
   "metadata": {},
   "outputs": [],
   "source": [
    "with open(\"diag_metadata.yaml\", mode=\"r\") as fptr:\n",
    "    diag_metadata_list = yaml.safe_load(fptr)\n",
    "\n",
    "# varnames = utils.get_varnames_from_metadata_list(diag_metadata_list)"
   ]
  },
  {
   "cell_type": "code",
   "execution_count": 3,
   "metadata": {},
   "outputs": [],
   "source": [
    "def summary_plots(ds, diag_metadata, save_pngs=False):\n",
    "    varname = diag_metadata[\"varname\"]\n",
    "    print(varname)\n",
    "    da = ds[varname].isel(diag_metadata.get(\"isel_dict\"))\n",
    "\n",
    "    utils.summary_plot_global_ts(\n",
    "        ds,\n",
    "        da,\n",
    "        diag_metadata,\n",
    "        time_coarsen_len=12,\n",
    "        save_pngs=save_pngs,\n",
    "        casename=ds.attrs[\"title\"],\n",
    "    )\n",
    "\n",
    "    utils.summary_plot_histogram(\n",
    "        ds, da, diag_metadata, save_pngs=save_pngs, casename=ds.attrs[\"title\"]\n",
    "    )"
   ]
  },
  {
   "cell_type": "code",
   "execution_count": 4,
   "metadata": {},
   "outputs": [
    {
     "name": "stdout",
     "output_type": "stream",
     "text": [
      "dashboard_link=https://jupyterhub.ucar.edu/dav/user/mlevy/proxy/41844/status\n"
     ]
    },
    {
     "name": "stderr",
     "output_type": "stream",
     "text": [
      "/glade/work/mlevy/miniconda3/envs/hires-marbl/lib/python3.7/site-packages/distributed/dashboard/core.py:79: UserWarning: \n",
      "Port 8787 is already in use. \n",
      "Perhaps you already have a cluster running?\n",
      "Hosting the diagnostics dashboard on a random port instead.\n",
      "  warnings.warn(\"\\n\" + msg)\n"
     ]
    }
   ],
   "source": [
    "cluster = ncar_jobqueue.NCARCluster(\n",
    "    cores=2, memory=\"64 GB\", processes=2, walltime=\"6:00:00\"\n",
    ")\n",
    "cluster.scale(n=8)  # n = number of workers\n",
    "print(f\"dashboard_link={cluster.dashboard_link}\")"
   ]
  },
  {
   "cell_type": "code",
   "execution_count": 5,
   "metadata": {},
   "outputs": [],
   "source": [
    "casename = \"g.e22b05.G1850ECOIAF_JRA.TL319_g17.cocco.001\"\n",
    "year = 95\n",
    "campaign_root = os.path.join(\n",
    "    os.path.sep,\n",
    "    \"glade\",\n",
    "    \"campaign\",\n",
    "    \"cesm\",\n",
    "    \"development\",\n",
    "    \"bgcwg\",\n",
    "    \"projects\",\n",
    "    \"1deg_cocco_JRA\",\n",
    "    \"cases\",\n",
    ")\n",
    "\n",
    "# Set up CaseClass object\n",
    "case = utils.CaseClass(casename, os.path.join(campaign_root, casename))"
   ]
  },
  {
   "cell_type": "code",
   "execution_count": 6,
   "metadata": {},
   "outputs": [
    {
     "name": "stdout",
     "output_type": "stream",
     "text": [
      "Datasets contain a total of 120 time samples\n",
      "Last average written at 0105-01-01 00:00:00\n",
      "POC_FLUX_100m\n",
      "Datasets contain a total of 120 time samples\n",
      "Last average written at 0105-01-01 00:00:00\n",
      "CaCO3_FLUX_100m\n",
      "Datasets contain a total of 120 time samples\n",
      "Last average written at 0105-01-01 00:00:00\n",
      "FG_CO2\n",
      "Datasets contain a total of 120 time samples\n",
      "Last average written at 0105-01-01 00:00:00\n",
      "DpCO2\n",
      "Datasets contain a total of 120 time samples\n",
      "Last average written at 0105-01-01 00:00:00\n",
      "PH\n",
      "Datasets contain a total of 120 time samples\n",
      "Last average written at 0105-01-01 00:00:00\n",
      "spChl\n",
      "Datasets contain a total of 120 time samples\n",
      "Last average written at 0105-01-01 00:00:00\n",
      "photoC_sp_zint\n",
      "Datasets contain a total of 120 time samples\n",
      "Last average written at 0105-01-01 00:00:00\n",
      "coccoChl\n",
      "Datasets contain a total of 120 time samples\n",
      "Last average written at 0105-01-01 00:00:00\n",
      "photoC_cocco_zint\n",
      "Datasets contain a total of 120 time samples\n",
      "Last average written at 0105-01-01 00:00:00\n",
      "diatChl\n",
      "Datasets contain a total of 120 time samples\n",
      "Last average written at 0105-01-01 00:00:00\n",
      "photoC_diat_zint\n",
      "Datasets contain a total of 120 time samples\n",
      "Last average written at 0105-01-01 00:00:00\n",
      "diazChl\n",
      "Datasets contain a total of 120 time samples\n",
      "Last average written at 0105-01-01 00:00:00\n",
      "photoC_diaz_zint\n",
      "Datasets contain a total of 120 time samples\n",
      "Last average written at 0105-01-01 00:00:00\n",
      "NHx_SURFACE_EMIS\n",
      "Datasets contain a total of 120 time samples\n",
      "Last average written at 0105-01-01 00:00:00\n",
      "NH4\n",
      "Datasets contain a total of 120 time samples\n",
      "Last average written at 0105-01-01 00:00:00\n",
      "O2_ZMIN\n",
      "Datasets contain a total of 120 time samples\n",
      "Last average written at 0105-01-01 00:00:00\n",
      "O2_ZMIN_DEPTH\n",
      "Datasets contain a total of 120 time samples\n",
      "Last average written at 0105-01-01 00:00:00\n",
      "O2\n",
      "Datasets contain a total of 120 time samples\n",
      "Last average written at 0105-01-01 00:00:00\n",
      "PO4\n",
      "Datasets contain a total of 120 time samples\n",
      "Last average written at 0105-01-01 00:00:00\n",
      "PO4\n",
      "Datasets contain a total of 120 time samples\n",
      "Last average written at 0105-01-01 00:00:00\n",
      "NO3\n",
      "Datasets contain a total of 120 time samples\n",
      "Last average written at 0105-01-01 00:00:00\n",
      "NO3\n",
      "Datasets contain a total of 120 time samples\n",
      "Last average written at 0105-01-01 00:00:00\n",
      "SiO3\n",
      "Datasets contain a total of 120 time samples\n",
      "Last average written at 0105-01-01 00:00:00\n",
      "SiO3\n"
     ]
    }
   ],
   "source": [
    "with dask.distributed.Client(cluster) as client:\n",
    "    stream = \"pop.h\"\n",
    "    #     ds = case.gen_dataset(varnames, stream)\n",
    "    for diag_metadata in diag_metadata_list:\n",
    "        ds = case.gen_dataset(\n",
    "            diag_metadata[\"varname\"], stream, start_year=95, end_year=104\n",
    "        )\n",
    "        summary_plots(ds, diag_metadata, save_pngs=True)"
   ]
  },
  {
   "cell_type": "code",
   "execution_count": 7,
   "metadata": {},
   "outputs": [],
   "source": [
    "cluster.close()"
   ]
  }
 ],
 "metadata": {
  "kernelspec": {
   "display_name": "Python [conda env:hires-marbl]",
   "language": "python",
   "name": "conda-env-hires-marbl-py"
  },
  "language_info": {
   "codemirror_mode": {
    "name": "ipython",
    "version": 3
   },
   "file_extension": ".py",
   "mimetype": "text/x-python",
   "name": "python",
   "nbconvert_exporter": "python",
   "pygments_lexer": "ipython3",
   "version": "3.7.8"
  }
 },
 "nbformat": 4,
 "nbformat_minor": 4
}
