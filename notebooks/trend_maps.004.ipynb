{
 "cells": [
  {
   "cell_type": "code",
   "execution_count": 1,
   "metadata": {},
   "outputs": [],
   "source": [
    "import os\n",
    "import glob\n",
    "\n",
    "import dask.distributed\n",
    "import matplotlib.pyplot as plt\n",
    "import ncar_jobqueue\n",
    "import xarray as xr\n",
    "\n",
    "import utils\n",
    "from utils.utils import time_set_mid\n",
    "\n",
    "%matplotlib inline\n",
    "%load_ext autoreload\n",
    "%autoreload 2\n"
   ]
  },
  {
   "cell_type": "code",
   "execution_count": 2,
   "metadata": {},
   "outputs": [],
   "source": [
    "casename = \"g.e22.G1850ECO_JRA_HR.TL319_t13.004\"\n",
    "campaign_root = os.path.join(\n",
    "    os.sep,\n",
    "    \"glade\",\n",
    "    \"campaign\",\n",
    "    \"cesm\",\n",
    "    \"development\",\n",
    "    \"bgcwg\",\n",
    "    \"projects\",\n",
    "    \"hi-res_JRA\",\n",
    "    \"cases\",\n",
    ")\n",
    "\n",
    "# Set up CaseClass object\n",
    "case = utils.CaseClass(\n",
    "    casename, os.path.join(campaign_root, casename, \"output\")\n",
    ")"
   ]
  },
  {
   "cell_type": "code",
   "execution_count": 3,
   "metadata": {},
   "outputs": [
    {
     "name": "stdout",
     "output_type": "stream",
     "text": [
      "dashboard_link=https://jupyterhub.ucar.edu/dav/user/mlevy/proxy/8787/status\n"
     ]
    }
   ],
   "source": [
    "cluster = ncar_jobqueue.NCARCluster(\n",
    "    cores=2, memory=\"64 GB\", processes=2, walltime=\"6:00:00\"\n",
    ")\n",
    "cluster.scale(n=8)  # n = number of workers\n",
    "print(f\"dashboard_link={cluster.dashboard_link}\")\n",
    "client = dask.distributed.Client(cluster)"
   ]
  },
  {
   "cell_type": "code",
   "execution_count": 4,
   "metadata": {},
   "outputs": [
    {
     "name": "stdout",
     "output_type": "stream",
     "text": [
      "Datasets contain a total of 36 time samples\n",
      "Last average written at 0005-01-01 00:00:00\n"
     ]
    }
   ],
   "source": [
    "stream = \"pop.h\"\n",
    "varnames = [\"PO4\", \"NO3\", \"SiO3\", \"O2\", \"DIC\", \"ALK\"]\n",
    "ds_4d = case.gen_dataset(\n",
    "    varnames,\n",
    "    stream,\n",
    "    start_year=2,\n",
    "    end_year=4,\n",
    ")"
   ]
  },
  {
   "cell_type": "code",
   "execution_count": 5,
   "metadata": {},
   "outputs": [],
   "source": [
    "za_dir = f\"/glade/scratch/klindsay/{casename}/ocn/proc\"\n",
    "filename_pattern = f\"{za_dir}/za_{casename}.pop.h.????-??.nc\"\n",
    "za_filenames = glob.glob(filename_pattern)\n",
    "za_filenames.sort()\n",
    "ds_tmp = xr.open_mfdataset(\n",
    "    za_filenames[12:48],\n",
    "    data_vars=\"minimal\",\n",
    "    compat=\"override\",\n",
    "    coords=\"minimal\",\n",
    ")\n",
    "ds_za = time_set_mid(ds_tmp, \"time\").assign_coords(\n",
    "    {\"basins\": [\"Global\", \"Pacific\", \"Indian\", \"Atlantic\"]}\n",
    ")"
   ]
  },
  {
   "cell_type": "code",
   "execution_count": 6,
   "metadata": {},
   "outputs": [],
   "source": [
    "def trend_plots(varname, map_vminmax=None, za_vminmax=None, save_pngs=False):\n",
    "    da = ds_4d[varname][:, 28, :, :]\n",
    "    da = da.chunk({\"time\": -1, \"nlat\": 300, \"nlon\": 900})\n",
    "    utils.trend_plot(\n",
    "        ds_4d,\n",
    "        da,\n",
    "        vmin=-map_vminmax,\n",
    "        vmax=map_vminmax,\n",
    "        save_pngs=save_pngs,\n",
    "        casename=casename,\n",
    "        isel_dict={\"z_t\": 0},\n",
    "    )\n",
    "\n",
    "    for basin_ind in range(ds_za.dims[\"basins\"]):\n",
    "        da = ds_za[varname].isel(basins=basin_ind)\n",
    "        da = da.chunk({\"time\": -1, \"z_t\": 10, \"lat_t\": 300})\n",
    "        utils.trend_plot(\n",
    "            ds_za,\n",
    "            da,\n",
    "            vmin=-za_vminmax,\n",
    "            vmax=za_vminmax,\n",
    "            invert_yaxis=True,\n",
    "            save_pngs=save_pngs,\n",
    "            casename=casename,\n",
    "            isel_dict={\"basins\": 0},\n",
    "        )"
   ]
  },
  {
   "cell_type": "code",
   "execution_count": 7,
   "metadata": {},
   "outputs": [],
   "source": [
    "trend_plots(\"PO4\", map_vminmax=0.1, za_vminmax=0.05, save_pngs=True)"
   ]
  },
  {
   "cell_type": "code",
   "execution_count": 8,
   "metadata": {},
   "outputs": [],
   "source": [
    "trend_plots(\"NO3\", map_vminmax=1.0, za_vminmax=0.5, save_pngs=True)"
   ]
  },
  {
   "cell_type": "code",
   "execution_count": 9,
   "metadata": {},
   "outputs": [],
   "source": [
    "trend_plots(\"SiO3\", map_vminmax=5.0, za_vminmax=2.0, save_pngs=True)"
   ]
  },
  {
   "cell_type": "code",
   "execution_count": 10,
   "metadata": {},
   "outputs": [],
   "source": [
    "trend_plots(\"O2\", map_vminmax=5.0, za_vminmax=2.0, save_pngs=True)"
   ]
  },
  {
   "cell_type": "code",
   "execution_count": 11,
   "metadata": {},
   "outputs": [],
   "source": [
    "trend_plots(\"DIC\", map_vminmax=10.0, za_vminmax=5.0, save_pngs=True)"
   ]
  },
  {
   "cell_type": "code",
   "execution_count": 12,
   "metadata": {},
   "outputs": [],
   "source": [
    "trend_plots(\"ALK\", map_vminmax=10.0, za_vminmax=5.0, save_pngs=True)"
   ]
  },
  {
   "cell_type": "code",
   "execution_count": 13,
   "metadata": {},
   "outputs": [],
   "source": [
    "client.close()\n",
    "cluster.close()"
   ]
  }
 ],
 "metadata": {
  "kernelspec": {
   "display_name": "Python [conda env:hires-marbl]",
   "language": "python",
   "name": "conda-env-hires-marbl-py"
  },
  "language_info": {
   "codemirror_mode": {
    "name": "ipython",
    "version": 3
   },
   "file_extension": ".py",
   "mimetype": "text/x-python",
   "name": "python",
   "nbconvert_exporter": "python",
   "pygments_lexer": "ipython3",
   "version": "3.7.8"
  }
 },
 "nbformat": 4,
 "nbformat_minor": 4
}
